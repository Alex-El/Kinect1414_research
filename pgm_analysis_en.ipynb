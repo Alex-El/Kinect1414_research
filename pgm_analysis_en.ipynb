{
  "nbformat": 4,
  "nbformat_minor": 0,
  "metadata": {
    "colab": {
      "name": "pgm_analysis_en.ipynb",
      "provenance": [],
      "collapsed_sections": []
    },
    "kernelspec": {
      "name": "python3",
      "display_name": "Python 3"
    },
    "language_info": {
      "name": "python"
    }
  },
  "cells": [
    {
      "cell_type": "markdown",
      "metadata": {
        "id": "RQwvgMLt7vcS"
      },
      "source": [
        "## Pgm file analysis"
      ]
    },
    {
      "cell_type": "markdown",
      "metadata": {
        "id": "cLKR_d5fjumb"
      },
      "source": [
        "Kinect 1414 makes it possible to get an rgb image of 640x480 pixels and a pgm image of the same size, where each pixel indicates the distance to the object.\n",
        "\n",
        "http://netpbm.sourceforge.net/doc/pgm.html\n",
        "\n",
        "An attempt to build a 3D model from these two frames leads to failure.\n",
        "\n",
        "Below is an analysis of the pgm file, which gives an understanding of the essence of the problem:"
      ]
    },
    {
      "cell_type": "code",
      "metadata": {
        "id": "IP2b2zsnIbh-"
      },
      "source": [
        "import numpy as np\n",
        "import pandas as pd\n",
        " \n",
        "from PIL import Image \n",
        "import plotly.express as px\n",
        "import plotly.graph_objects as go"
      ],
      "execution_count": 5,
      "outputs": []
    },
    {
      "cell_type": "code",
      "metadata": {
        "id": "vwQ0r3Mx8fxW"
      },
      "source": [
        "# for my colab\n",
        "path = '/content/drive/MyDrive/Colab_Notebooks/3D/research/one_frame/registration_test_depth_mm.pgm'"
      ],
      "execution_count": 6,
      "outputs": []
    },
    {
      "cell_type": "code",
      "metadata": {
        "id": "nm5QPDIs8fm4"
      },
      "source": [
        "# the function reads pgm and returns an array of numbers\n",
        "def read_pgm(path):\n",
        "    pgmf = open(path, 'rb')\n",
        "    format, width, height, depth = pgmf.readline().split()\n",
        "    width = int(width)\n",
        "    height = int(height)\n",
        "    depth = int(depth)\n",
        "\n",
        "    raster = []\n",
        "    for y in range(height):\n",
        "        row = []\n",
        "        for y in range(width):\n",
        "            row.append(ord(pgmf.read(1)))\n",
        "        raster.append(row)\n",
        "    return raster"
      ],
      "execution_count": 7,
      "outputs": []
    },
    {
      "cell_type": "code",
      "metadata": {
        "id": "ZCSqbX6j_i_u"
      },
      "source": [
        "# get the array\n",
        "lines_int = read_pgm(path)"
      ],
      "execution_count": 8,
      "outputs": []
    },
    {
      "cell_type": "code",
      "metadata": {
        "id": "rYnXKXsieF2U",
        "colab": {
          "base_uri": "https://localhost:8080/"
        },
        "outputId": "bd9281f6-e31e-43b0-88a1-fd13988d45d2"
      },
      "source": [
        "# array to numpy\n",
        "lines_int_np = np.array(lines_int)\n",
        "lines_int_np"
      ],
      "execution_count": 9,
      "outputs": [
        {
          "output_type": "execute_result",
          "data": {
            "text/plain": [
              "array([[153,   4, 153, ...,   0,   0,   0],\n",
              "       [  0,   0,   0, ...,   0,   0,   0],\n",
              "       [153,   4, 157, ...,   0,   0,   0],\n",
              "       ...,\n",
              "       [  0,   0,   0, ...,   0,   0,   0],\n",
              "       [182,   4, 186, ...,   0,   0,   0],\n",
              "       [  0,   0,   0, ...,   0,   0,   0]])"
            ]
          },
          "metadata": {},
          "execution_count": 9
        }
      ]
    },
    {
      "cell_type": "code",
      "metadata": {
        "colab": {
          "base_uri": "https://localhost:8080/"
        },
        "id": "yiQgIgR9eFtN",
        "outputId": "30e35ce5-1741-4ac7-a75c-0e519266e004"
      },
      "source": [
        "# number of non-zero values\n",
        "(lines_int_np > 0).astype(int).sum()"
      ],
      "execution_count": 10,
      "outputs": [
        {
          "output_type": "execute_result",
          "data": {
            "text/plain": [
              "238978"
            ]
          },
          "metadata": {},
          "execution_count": 10
        }
      ]
    },
    {
      "cell_type": "markdown",
      "metadata": {
        "id": "_yBTvvQfpyni"
      },
      "source": [
        "This file gave cloud -> PointCloud with 7335 points. The number of points does not match the number of non-zero values."
      ]
    },
    {
      "cell_type": "markdown",
      "metadata": {
        "id": "SNf5F9W9qmSw"
      },
      "source": [
        "## 3D view\n",
        "\n",
        "The depth in mm is determined by the number in the lines_int_np array\n",
        "\n",
        "For graphic interpretation, we will divide the 640 x 480 array into 64 x 48 fragments.Total 100 pieces with coordinates h and w"
      ]
    },
    {
      "cell_type": "code",
      "metadata": {
        "id": "4LH1KMsnHN2L"
      },
      "source": [
        "# convert data to pandas dataframe\n",
        "df_lines_int = pd.DataFrame(lines_int_np)"
      ],
      "execution_count": 11,
      "outputs": []
    },
    {
      "cell_type": "code",
      "metadata": {
        "id": "ezP8hODHcees"
      },
      "source": [
        "# Fragment rendering function w, h <10\n",
        "def show_fragment(df, w, h):\n",
        "    df_fragm = df.copy()\n",
        "    # cat the cols (w)\n",
        "    if w != 1:\n",
        "        df_fragm.drop(range(0, w*64-64), axis=1, inplace=True)\n",
        "    if w != 10:\n",
        "        df_fragm.drop(range(w*64, 640), axis=1, inplace=True)\n",
        "    # cat the rows (h)\n",
        "    if h != 1:\n",
        "        df_fragm.drop(range(0, h*48-48), axis=0, inplace=True)\n",
        "    if h != 10:\n",
        "        df_fragm.drop(range(h*48, 480), axis=0, inplace=True)\n",
        "\n",
        "    print('Shape:', df_fragm.shape)\n",
        "\n",
        "    # render\n",
        "    fig = go.Figure(data=[go.Surface(z=df_fragm.values)])\n",
        "\n",
        "    fig.update_layout(title=f'Фрагмент w={w} h={h}', autosize=False,\n",
        "                    width=1000, height=800,\n",
        "                    margin=dict(l=65, r=50, b=65, t=90))\n",
        "    fig.show()"
      ],
      "execution_count": 12,
      "outputs": []
    },
    {
      "cell_type": "code",
      "metadata": {
        "id": "8SSTD8UjH2kO",
        "colab": {
          "base_uri": "https://localhost:8080/",
          "height": 834
        },
        "outputId": "03f61cd0-0e34-4eb1-c534-a055bac87e7b"
      },
      "source": [
        "show_fragment(df_lines_int, w=5, h=5)"
      ],
      "execution_count": 13,
      "outputs": [
        {
          "output_type": "stream",
          "text": [
            "Shape: (48, 64)\n"
          ],
          "name": "stdout"
        },
        {
          "output_type": "display_data",
          "data": {
            "text/html": ![alt text](http://url/to/img.png)
          },
          "metadata": {}
        }
      ]
    },
    {
      "cell_type": "markdown",
      "metadata": {
        "id": "-8KI42RIi__c"
      },
      "source": [
        "We observe the alternation of depth values with zeros. This is due to the fact that a single frame of depth measurement does not provide enough data for building a model.\n",
        "\n",
        "Several frames need to be approximated."
      ]
    },
    {
      "cell_type": "markdown",
      "metadata": {
        "id": "Xe633jZ-b6Am"
      },
      "source": [
        "\n",
        "\n",
        "---\n",
        "\n"
      ]
    }
  ]
}
